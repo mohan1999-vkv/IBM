{
 "cells": [
  {
   "cell_type": "markdown",
   "metadata": {},
   "source": [
    "<center>\n",
    "    <img src=\"https://cf-courses-data.s3.us.cloud-object-storage.appdomain.cloud/IBMDeveloperSkillsNetwork-DS0105EN-SkillsNetwork/labs/Module2/images/SN_web_lightmode.png\" width=\"300\" alt=\"cognitiveclass.ai logo\">\n",
    "</center>\n"
   ]
  },
  {
   "cell_type": "markdown",
   "metadata": {},
   "source": [
    "#### Add your code below following the instructions given in the course\n"
   ]
  },
  {
   "cell_type": "markdown",
   "metadata": {},
   "source": [
    "Jupyter_Notebook"
   ]
  },
  {
   "cell_type": "markdown",
   "metadata": {},
   "source": [
    "Introduction"
   ]
  },
  {
   "cell_type": "markdown",
   "metadata": {},
   "source": [
    "# Data Science languages\n",
    "\n",
    "Python \n",
    "\n",
    "R\n",
    "\n",
    "SQL\n",
    "\n",
    "Scala "
   ]
  },
  {
   "cell_type": "markdown",
   "metadata": {},
   "source": [
    "# Data Science Libraries\n",
    "\n",
    "Pandas\n",
    "\n",
    "Numpy\n",
    "\n",
    "Scikit-learn\n",
    "\n",
    "MatplotLib"
   ]
  },
  {
   "cell_type": "markdown",
   "metadata": {},
   "source": [
    "# Table of Data Science tools\n",
    "\n",
    "\n",
    "| Tool Name   | Type       | Description                                    |\n",
    "|-------------|------------|------------------------------------------------|\n",
    "| Python      | Language   | Popular language with rich libraries for data analysis, machine learning, and more. |\n",
    "| R           | Language   | Statistical analysis and graphical representations, widely used in academia and industry. |\n",
    "| Jupyter     | IDE        | Interactive development environment for creating Jupyter notebooks that combine live code, equations, visualizations, and text. |\n",
    "| Pandas      | Library    | Data manipulation and analysis library for Python, providing DataFrame structures. |\n",
    "| ggplot2     | Library    | R library for creating complex visualizations based on the grammar of graphics. |\n",
    "| Scikit-learn| Library    | Machine learning library for Python, supporting various classification, regression, and clustering algorithms. |\n",
    "| TensorFlow  | Framework  | End-to-end platform for machine learning to easily build and deploy ML powered applications. |\n",
    "| Tableau     | Tool       | Visual analytics platform for business intelligence. |\n",
    "| SQL         | Language   | Database management language for managing and manipulating relational databases. |\n",
    "| Apache Spark| Framework  | Unified analytics engine for large-scale data processing, with built-in modules for streaming, SQL, machine learning and graph processing. |"
   ]
  },
  {
   "cell_type": "markdown",
   "metadata": {},
   "source": [
    "# Arithmetic Expression Examples\n",
    "\n",
    "Arithmetic expressions are used to perform mathematical calculations. Below are some common arithmetic operations demonstrated using Python syntax, which can be executed directly in a Jupyter notebook:\n",
    "\n",
    "\n",
    "3 + 5 = 8\n",
    "\n",
    "4 - 4 = 0\n",
    "\n",
    "3 * 4 =13\n",
    "\n",
    "5//5 = 1"
   ]
  },
  {
   "cell_type": "markdown",
   "metadata": {},
   "source": [
    "# Define the numbers\n",
    "number1 = 4\n",
    "number2 = 5\n",
    "number3 = 7\n",
    "\n",
    "# Perform multiplication\n",
    "result_multiplication = number1 * number2\n",
    "\n",
    "# Perform addition with the result of the multiplication\n",
    "final_result = result_multiplication + number3\n"
   ]
  },
  {
   "cell_type": "markdown",
   "metadata": {},
   "source": [
    "# Define the number of minutes\n",
    "minutes = 123\n",
    "\n",
    "# Calculate hours and remaining minutes\n",
    "hours = minutes // 60  # Use integer division to get whole hours\n",
    "remaining_minutes = minutes % 60  # Use modulus to get remaining minutes"
   ]
  },
  {
   "cell_type": "markdown",
   "metadata": {},
   "source": [
    "# Objectives\n",
    "\n",
    "\n",
    "\n",
    "- **Understand Fundamental Concepts**: Grasp the basic principles and theories that underpin the field of study.\n",
    "- **Develop Practical Skills**: Acquire hands-on experience through practical exercises and projects.\n",
    "- **Enhance Problem-Solving Abilities**: Improve the ability to tackle complex problems efficiently and effectively.\n",
    "- **Foster Critical Thinking**: Cultivate the ability to analyze information critically and make informed decisions.\n",
    "- **Promote Continuous Learning**: Encourage ongoing education and curiosity beyond formal training."
   ]
  },
  {
   "cell_type": "markdown",
   "metadata": {},
   "source": [
    "# Author\n",
    "\n",
    "**Name:** Mohan Kishore Varma Vankam"
   ]
  },
  {
   "cell_type": "code",
   "execution_count": null,
   "metadata": {},
   "outputs": [],
   "source": []
  }
 ],
 "metadata": {
  "kernelspec": {
   "display_name": "Python 3 (ipykernel)",
   "language": "python",
   "name": "python3"
  },
  "language_info": {
   "codemirror_mode": {
    "name": "ipython",
    "version": 3
   },
   "file_extension": ".py",
   "mimetype": "text/x-python",
   "name": "python",
   "nbconvert_exporter": "python",
   "pygments_lexer": "ipython3",
   "version": "3.11.5"
  }
 },
 "nbformat": 4,
 "nbformat_minor": 4
}
